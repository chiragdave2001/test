{
 "metadata": {
  "kernelspec": {
   "display_name": "Streamlit Notebook",
   "name": "streamlit"
  },
  "lastEditStatus": {
   "notebookId": "v3ovyiv6fef7jsucvetl",
   "authorId": "483090880775",
   "authorName": "RAJU",
   "authorEmail": "vaqygyry@logsmarter.net",
   "sessionId": "78a19d2e-4515-4410-8ac3-fdc2066d68e5",
   "lastEditTime": 1739872931728
  }
 },
 "nbformat_minor": 5,
 "nbformat": 4,
 "cells": [
  {
   "cell_type": "code",
   "id": "3775908f-ca36-4846-8f38-5adca39217f2",
   "metadata": {
    "language": "python",
    "name": "cell1",
    "collapsed": false
   },
   "source": "# Import python packages\nimport streamlit as st\nimport pandas as pd\nfrom snowflake.snowpark.exceptions import SnowparkSQLException\n\n# We can also use Snowpark for our analyses!\nfrom snowflake.snowpark.context import get_active_session\nsession = get_active_session()\n",
   "execution_count": null,
   "outputs": []
  },
  {
   "cell_type": "code",
   "id": "51da04a5-d6f4-4873-9363-c0295bc3b526",
   "metadata": {
    "language": "python",
    "name": "cell2"
   },
   "outputs": [],
   "source": "",
   "execution_count": null
  },
  {
   "cell_type": "code",
   "id": "551adbdf-5196-4aab-bea6-910de3f819df",
   "metadata": {
    "language": "python",
    "name": "cell3",
    "collapsed": false
   },
   "outputs": [],
   "source": "# Example: Creating a new SQL file\nfile_name = \"new_script.sql\"\nsql_content = \"\"\"\nSELECT empid, emp_name \nFROM emp \nWHERE empis = 121;\n\"\"\"\n\n# Write to a file\nwith open(file_name, 'w') as file:\n    file.write(sql_content)\n",
   "execution_count": null
  },
  {
   "cell_type": "code",
   "id": "c10b9962-4a64-4477-b0c5-c7f641da5bff",
   "metadata": {
    "language": "python",
    "name": "cell4",
    "collapsed": false
   },
   "outputs": [],
   "source": "# Create content for the SQL file\nfile_name = \"new_script.sql\"\nsql_content = \"\"\"\nSELECT empid, emp_name \nFROM emp \nWHERE empis = 121;\n\"\"\"\n\n# Write to a temporary file in the notebook's local workspace\nwith open(file_name, 'w') as file:\n    file.write(sql_content)\n\n# Upload the file to a permanent Snowflake stage\n# Assuming you've already created a stage named 'my_permanent_stage'\nput_command = f\"PUT file://{file_name} @backup_data\"\nsession.sql(put_command).collect()  # Execute the PUT command\n\nprint(f\"File {file_name} uploaded to permanent stage.\")\n",
   "execution_count": null
  },
  {
   "cell_type": "code",
   "id": "a9029ce4-2b19-42b2-88c8-66142f7acce8",
   "metadata": {
    "language": "python",
    "name": "cell5",
    "collapsed": false
   },
   "outputs": [],
   "source": "import os\n\nprint(os.listdir('./RAJU'))  # List files in the current directory\n",
   "execution_count": null
  },
  {
   "cell_type": "code",
   "id": "e3b681d5-41d7-4fb7-824d-d57b23ed01bb",
   "metadata": {
    "language": "sql",
    "name": "cell6",
    "collapsed": false
   },
   "outputs": [],
   "source": "copy into @backup_data/test_stg_file from(select 'abc');",
   "execution_count": null
  },
  {
   "cell_type": "code",
   "id": "57b9c983-81eb-49eb-a580-88314c2854ff",
   "metadata": {
    "language": "sql",
    "name": "cell7",
    "collapsed": false
   },
   "outputs": [],
   "source": "copy into @NB_HOL_DB.PUBLIC.TEST from @NB_HOL_DB.PUBLIC.BACKUP_DATA FILES= ('test_stg_file_0_0_0.csv.gz')",
   "execution_count": null
  }
 ]
}