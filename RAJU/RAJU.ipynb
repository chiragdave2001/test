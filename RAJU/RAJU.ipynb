{
 "metadata": {
  "kernelspec": {
   "display_name": "Streamlit Notebook",
   "name": "streamlit"
  },
  "lastEditStatus": {
   "notebookId": "v3ovyiv6fef7jsucvetl",
   "authorId": "483090880775",
   "authorName": "RAJU",
   "authorEmail": "vaqygyry@logsmarter.net",
   "sessionId": "78a19d2e-4515-4410-8ac3-fdc2066d68e5",
   "lastEditTime": 1739861795306
  }
 },
 "nbformat_minor": 5,
 "nbformat": 4,
 "cells": [
  {
   "cell_type": "code",
   "id": "3775908f-ca36-4846-8f38-5adca39217f2",
   "metadata": {
    "language": "python",
    "name": "cell1",
    "collapsed": false
   },
   "source": "# Import python packages\nimport streamlit as st\nimport pandas as pd\nfrom snowflake.snowpark.exceptions import SnowparkSQLException\n\n# We can also use Snowpark for our analyses!\nfrom snowflake.snowpark.context import get_active_session\nsession = get_active_session()\n",
   "execution_count": null,
   "outputs": []
  },
  {
   "cell_type": "code",
   "id": "51da04a5-d6f4-4873-9363-c0295bc3b526",
   "metadata": {
    "language": "python",
    "name": "cell2"
   },
   "outputs": [],
   "source": "",
   "execution_count": null
  },
  {
   "cell_type": "code",
   "id": "551adbdf-5196-4aab-bea6-910de3f819df",
   "metadata": {
    "language": "python",
    "name": "cell3",
    "collapsed": false
   },
   "outputs": [],
   "source": "# Example: Creating a new SQL file\nfile_name = \"new_script.sql\"\nsql_content = \"\"\"\nSELECT empid, emp_name \nFROM emp \nWHERE empis = 121;\n\"\"\"\n\n# Write to a file\nwith open(file_name, 'w') as file:\n    file.write(sql_content)\n",
   "execution_count": null
  },
  {
   "cell_type": "code",
   "id": "c10b9962-4a64-4477-b0c5-c7f641da5bff",
   "metadata": {
    "language": "python",
    "name": "cell4"
   },
   "outputs": [],
   "source": "with open(file_name,'r') as f :\n   print(f.read())",
   "execution_count": null
  }
 ]
}