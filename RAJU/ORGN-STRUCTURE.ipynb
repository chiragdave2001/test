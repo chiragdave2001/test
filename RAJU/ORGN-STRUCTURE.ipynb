{
 "metadata": {
  "kernelspec": {
   "display_name": "Streamlit Notebook",
   "name": "streamlit"
  },
  "lastEditStatus": {
   "notebookId": "cnh7ua4lmyo6kkhvyazj",
   "authorId": "871083538440",
   "authorName": "SANJU",
   "authorEmail": "vaqygyry@logsmarter.net",
   "sessionId": "78b85d00-daeb-46c3-b95b-669a42e58ce2",
   "lastEditTime": 1742299222265
  }
 },
 "nbformat_minor": 5,
 "nbformat": 4,
 "cells": [
  {
   "cell_type": "code",
   "id": "3775908f-ca36-4846-8f38-5adca39217f2",
   "metadata": {
    "language": "python",
    "name": "cell1"
   },
   "source": "# Import python packages\nimport streamlit as st\nimport pandas as pd\nimport snowflake.snowpark.functions as F\n\n# We can also use Snowpark for our analyses!\nfrom snowflake.snowpark.context import get_active_session\nsession = get_active_session()\nt_org = session.table('T_ORGANIZATIONS').select(F.col(\"ORGN_ID\"),\\\n                                                F.col(\"ORGANIZATION_NAME\"),\\\n                                                F.col(\"DSS_OFFICE_TYPE\"))\nt_org_org = session.table('T_ORGANIZATION_ORGANIZATION').select(F.col(\"ORGN_ORGN_ID\"),\\\n                                                F.col(\"ORGN_ORGN_SUBORGN_ID\"))\n\n\n# Define the schema structure\nschema = {\n    \"res_orgn_id\": [],\n    \"res_unit_hr_orgn_id\": [],\n    \"res_unit_hr_name\": [],\n    \"res_parent_unit_orgn_id\": [],\n    \"res_parent_unit_name\": [],\n    \"res_parent_area_orgn_id\": [],\n    \"res_parent_area_name\": [],\n    \"res_parent_regional_orgn_id\": [],\n    \"res_parent_regional_name\": [],\n    \"res_parent_central_orgn_id\": [],\n    \"res_parent_central_name\": []\n}\n\n# Create an empty DataFrame with the schema\nres_table = pd.DataFrame(schema)\n\n\n# print(res_table)\n# print(len(res_table))\n\n# new_row = {\n#             \"orgn_id\": 1,\n#             \"unit_hr_orgn_id\": 1 * 10,\n#             \"unit_hr_name\": f\"Unit 1\",\n#             \"parent_unit_orgn_id\": 1 * 100,\n#             \"parent_unit_name\": f\"Parent Unit 1\",\n#             \"parent_area_orgn_id\": 1 * 1000,\n#             \"parent_area_name\": f\"Area 1\",\n#             \"parent_regional_orgn_id\": 1 * 10000,\n#             \"parent_regional_name\": f\"Regional 1\",\n#             \"parent_central_orgn_id\": 1 * 100000,\n#             \"parent_central_name\": f\"Central 1\"\n#         }\n# res_table.loc[len(res_table)] = new_row\n\n# print(res_table)",
   "execution_count": null,
   "outputs": []
  },
  {
   "cell_type": "code",
   "id": "d39f8485-93bc-4f1b-8585-1e5427d34ec3",
   "metadata": {
    "language": "python",
    "name": "cell2"
   },
   "outputs": [],
   "source": "# sql = \"\"\"select distinct dss_office_type,orgn_orgn_suborgn_id orgn_id\n# from t_organizations o inner join t_organization_organization oo\n#     on o.orgn_id = oo.orgn_orgn_suborgn_id\n# where dss_office_type in (103228,159938,\n#                                 99585,99586,99587)\n#         --and orgn_orgn_suborgn_id in (50213)\n#         --and orgn_orgn_suborgn_id in (49820,\n# --49826,\n# --49821,\n# --49824,\n# --49823,\n# --49822)\n# --limit 1000\n#     \"\"\"\n\nsql = \"\"\"\n    select distinct dss_office_type, orgn_id\n    from t_organizations o \n    where dss_office_type in (103228,159938,\n                                99585,99586,99587);\n\"\"\"\n\nmy_df = session.sql(sql)\n\nmy_df",
   "execution_count": null
  },
  {
   "cell_type": "code",
   "id": "d9631c9d-9d74-4191-8ed3-f44dd72db825",
   "metadata": {
    "language": "python",
    "name": "cell3"
   },
   "outputs": [],
   "source": "new_rows = []\n\norgn_name_dict = {row['ORGN_ID']: row['ORGANIZATION_NAME'] for row in t_org.to_local_iterator()}\n\nfor row in my_df.to_local_iterator():\n    orgn_id = row['ORGN_ID']\n    dss_office_type = row['DSS_OFFICE_TYPE']\n    unit_hr_orgn_id = 0\n    unit_hr_name = ''\n    parent_unit_orgn_id = 0\n    parent_unit_name = ''\n    parent_area_orgn_id = 0\n    parent_area_name = ''\n    parent_regional_orgn_id = 0\n    parent_regional_name = ''\n    parent_central_orgn_id = 0\n    parent_central_name = ''\n\n    sql1 = f\"\"\"\n        WITH RECURSIVE org_hierarchy AS (\n            SELECT \n                orgn_orgn_id,\n                orgn_orgn_suborgn_id\n            FROM \n                t_organization_organization\n            WHERE \n                orgn_orgn_suborgn_id =  {orgn_id}  \n            UNION ALL\n            SELECT \n                t.orgn_orgn_id,\n                t.orgn_orgn_suborgn_id\n            FROM \n                t_organization_organization t\n            JOIN \n                org_hierarchy oh ON t.orgn_orgn_suborgn_id = oh.orgn_orgn_id\n                inner join t_organizations too on  t.orgn_orgn_id = too.orgn_id\n        )\n         \n        SELECT oh.*,dss_office_type FROM org_hierarchy oh\n        inner join t_organizations too on too.orgn_id = oh.orgn_orgn_id\n        union \n        select {orgn_id} ,null,{dss_office_type}\n    \"\"\"\n    res_df = session.sql(sql1)\n    res_df\n\n\n    # res_df = res_df.join(t_org ,res_df[\"ORGN_ORGN_ID\"] == t_org[\"ORGN_ID\"],'left')\n    \n    unit_df = res_df[res_df[\"DSS_OFFICE_TYPE\"] == '103228']\n    area_df = res_df[res_df[\"DSS_OFFICE_TYPE\"] == '99587']\n    regional_df = res_df[res_df[\"DSS_OFFICE_TYPE\"] == '99586']\n    central_df = res_df[res_df[\"DSS_OFFICE_TYPE\"] == '99585']\n    \n    unit_df\n\n    # area_df\n\n    # regional_df\n\n    # central_df\n\n    parent_unit_orgn_id = unit_df.first()[\"ORGN_ORGN_ID\"] if unit_df.first() is not None else None\n    parent_unit_name = None if parent_unit_orgn_id is None else orgn_name_dict[parent_unit_orgn_id]\n\n    # print(parent_unit_orgn_id)\n    parent_area_orgn_id = area_df.first()[\"ORGN_ORGN_ID\"] if area_df.first() is not None else None\n    parent_area_name = None if parent_area_orgn_id is None else orgn_name_dict[parent_area_orgn_id]\n    # print(parent_area_orgn_id)\n\n    parent_regional_orgn_id = regional_df.first()[\"ORGN_ORGN_ID\"] if regional_df.first() is not None else None\n    parent_regional_name = None if parent_regional_orgn_id is None else orgn_name_dict[parent_regional_orgn_id]\n    # print(parent_regional_orgn_id)\n\n    parent_central_orgn_id = central_df.first()[\"ORGN_ORGN_ID\"] if central_df.first() is not None else None\n    parent_central_name = None if parent_central_orgn_id is None else orgn_name_dict[parent_central_orgn_id]\n\n\n    new_row = {\n        'res_orgn_id': orgn_id,\n        'res_unit_hr_orgn_id': unit_hr_orgn_id,\n        'res_unit_hr_name': unit_hr_name,\n        'res_parent_unit_orgn_id': parent_unit_orgn_id,\n        'res_parent_unit_name': parent_unit_name,\n        'res_parent_area_orgn_id': parent_area_orgn_id,\n        'res_parent_area_name': parent_area_name,\n        'res_parent_regional_orgn_id': parent_regional_orgn_id,\n        'res_parent_regional_name': parent_regional_name,\n        'res_parent_central_orgn_id': parent_central_orgn_id,\n        'res_parent_central_name': parent_central_name\n    }\n\n    new_rows.append(new_row)\n\n# Create the DataFrame from the list of rows\nres_table = pd.DataFrame(new_rows)\nres_table",
   "execution_count": null
  },
  {
   "cell_type": "code",
   "id": "4efa067e-65f5-4ec7-aa2b-d9cd94fa45e0",
   "metadata": {
    "language": "python",
    "name": "cell4"
   },
   "outputs": [],
   "source": "org_structure = session.table(\"ORGANIZATION_STRUCTURE1\")\nprint(org_structure.schema)\nprint(new_rows)\nres_table1 = session.create_dataframe(res_table)\nprint(res_table1.schema)\nres_table1['\"res_orgn_id\"']\n\norg_structure.merge(res_table1 ,(org_structure[\"ORGN_ID\"] == res_table1['\"res_orgn_id\"']),\\\n                   [F.when_not_matched().insert({\"ORGN_ID\":res_table1['\"res_orgn_id\"'], \"UNIT_HR_ORGN_ID\":res_table1['\"res_unit_hr_orgn_id\"'], \"UNIT_HR_NAME\":res_table1['\"res_unit_hr_name\"'],\\\n                                                 \"PARENT_UNIT_ORGN_ID\":res_table1['\"res_parent_unit_orgn_id\"'], \"PARENT_UNIT_NAME\":res_table1['\"res_parent_unit_name\"'], \\\n                                                 \"PARENT_AREA_ORGN_ID\":res_table1['\"res_parent_area_orgn_id\"'], \"PARENT_AREA_NAME\":res_table1['\"res_parent_area_name\"'],\\\n                                                 \"PARENT_REGIONAL_ORGN_ID\":res_table1['\"res_parent_regional_orgn_id\"'], \"PARENT_REGIONAL_NAME\":res_table1['\"res_parent_regional_name\"'],\\\n                                                 \"PARENT_CENTRAL_ORGN_ID\":res_table1['\"res_parent_central_orgn_id\"'], \"PARENT_CENTRAL_NAME\":res_table1['\"res_parent_central_name\"']})])",
   "execution_count": null
  }
 ]
}